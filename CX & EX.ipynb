{
 "cells": [
  {
   "cell_type": "code",
   "execution_count": 8,
   "id": "6afcee3e",
   "metadata": {},
   "outputs": [],
   "source": [
    "import pandas as pd\n",
    "from pandas import ExcelWriter\n",
    "from pandas import ExcelFile\n",
    "import numpy as np"
   ]
  },
  {
   "cell_type": "code",
   "execution_count": 11,
   "id": "56ae4277",
   "metadata": {},
   "outputs": [],
   "source": [
    "df = pd.read_excel('fast_food.xlsx')"
   ]
  },
  {
   "cell_type": "markdown",
   "id": "04e6c320",
   "metadata": {},
   "source": [
    "The data is from Glassdoor and ACSI (American Consumer Satisfaction Index). It consists of employee satisfaction ratings on a scale of one to five and customer satisfaction ratings on a scale of zero to 100 for three US industries: fast food, package delivery and supermarkets.\n",
    "\n",
    "In fact, however, it's no company gets an employee ratings below 1.8 or above 4.5, or a customer satisfaction rating below 70 or above 85. In addition, some companies have tried to game the Glassdoor ratings, enlisting employees to leave positive reviews. For that reason, I only looked at companies with many reviews (not a problem for these companies, which have many reviews.\n",
    "\n",
    "Finally, many companies have the same ratings. Any scatterplot would show dots on top of each other, and dots lined up in rigid rows and columns. To avoid this problem, I \"jiggled\" the ratings, adding a small random number (between 0 and 0.1) to each rating.\n",
    "\n",
    "Below, the median (I used median because it's a small sample and I assume that the ratings are not normally distributed) company has a customer satisfaction rating of 77 and employee satisfaction rating of 3.4."
   ]
  },
  {
   "cell_type": "code",
   "execution_count": 12,
   "id": "98d1d73b",
   "metadata": {},
   "outputs": [
    {
     "data": {
      "text/plain": [
       "ACSI             77.0000\n",
       "Glassdoor         3.4000\n",
       "Customer Love    77.0770\n",
       "Employee Love     3.4102\n",
       "dtype: float64"
      ]
     },
     "execution_count": 12,
     "metadata": {},
     "output_type": "execute_result"
    }
   ],
   "source": [
    "df.median()"
   ]
  },
  {
   "cell_type": "code",
   "execution_count": 31,
   "id": "dd342776",
   "metadata": {},
   "outputs": [
    {
     "data": {
      "text/plain": [
       "ACSI                 77.047619\n",
       "Glassdoor             3.497619\n",
       "Jiggled ACSI         77.071762\n",
       "Jiggled Glassdoor     3.497500\n",
       "dtype: float64"
      ]
     },
     "execution_count": 31,
     "metadata": {},
     "output_type": "execute_result"
    }
   ],
   "source": [
    "df.mean()"
   ]
  },
  {
   "cell_type": "markdown",
   "id": "79d8063b",
   "metadata": {},
   "source": []
  },
  {
   "cell_type": "code",
   "execution_count": 27,
   "id": "a3d42ad2",
   "metadata": {},
   "outputs": [
    {
     "name": "stdout",
     "output_type": "stream",
     "text": [
      "                 Glassdoor     \n",
      "                       min  max\n",
      "Sector                         \n",
      "Fast Food              3.2  3.9\n",
      "Package Delivery       2.9  3.7\n",
      "Supermarkets           2.7  4.3\n"
     ]
    }
   ],
   "source": [
    "grouped_df = df.groupby(\"Sector\")\n",
    "maximums = grouped_df.max()\n",
    "\n",
    "result = df.groupby('Sector').agg({'Glassdoor': ['min', 'max']})\n",
    "print(result)"
   ]
  },
  {
   "cell_type": "code",
   "execution_count": 31,
   "id": "a21b6d1d",
   "metadata": {},
   "outputs": [
    {
     "name": "stdout",
     "output_type": "stream",
     "text": [
      "                 Glassdoor\n",
      "                       min\n",
      "Sector                    \n",
      "Fast Food              3.2\n",
      "Package Delivery       2.9\n",
      "Supermarkets           2.7\n",
      "                 Glassdoor\n",
      "                       max\n",
      "Sector                    \n",
      "Fast Food              3.9\n",
      "Package Delivery       3.7\n",
      "Supermarkets           4.3\n"
     ]
    }
   ],
   "source": [
    "result_min = df.groupby('Sector').agg({'Glassdoor': ['min']})\n",
    "print(result_min)\n",
    "result_max = df.groupby('Sector').agg({'Glassdoor': ['max']})\n",
    "print(result_max)"
   ]
  }
 ],
 "metadata": {
  "kernelspec": {
   "display_name": "Python 3",
   "language": "python",
   "name": "python3"
  },
  "language_info": {
   "codemirror_mode": {
    "name": "ipython",
    "version": 3
   },
   "file_extension": ".py",
   "mimetype": "text/x-python",
   "name": "python",
   "nbconvert_exporter": "python",
   "pygments_lexer": "ipython3",
   "version": "3.9.5"
  }
 },
 "nbformat": 4,
 "nbformat_minor": 5
}
